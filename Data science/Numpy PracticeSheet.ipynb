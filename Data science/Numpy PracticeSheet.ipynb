{
 "cells": [
  {
   "metadata": {
    "ExecuteTime": {
     "end_time": "2025-04-23T06:53:26.419361Z",
     "start_time": "2025-04-23T06:53:26.288775Z"
    }
   },
   "cell_type": "code",
   "outputs": [],
   "execution_count": 3,
   "source": "import numpy as np",
   "id": "initial_id"
  },
  {
   "metadata": {},
   "cell_type": "markdown",
   "source": [
    "# 1 D array   \n",
    " creating a 1D array"
   ],
   "id": "bb6beab952c0b9d"
  },
  {
   "metadata": {
    "ExecuteTime": {
     "end_time": "2025-04-23T07:20:21.488129Z",
     "start_time": "2025-04-23T07:20:21.481823Z"
    }
   },
   "cell_type": "code",
   "source": [
    "arr = np.array([1,2,3,4,5])\n",
    "arr"
   ],
   "id": "dfdf6da727fd8573",
   "outputs": [
    {
     "data": {
      "text/plain": [
       "array([1, 2, 3, 4, 5])"
      ]
     },
     "execution_count": 21,
     "metadata": {},
     "output_type": "execute_result"
    }
   ],
   "execution_count": 21
  },
  {
   "metadata": {
    "ExecuteTime": {
     "end_time": "2025-04-23T07:17:45.871628Z",
     "start_time": "2025-04-23T07:17:45.863534Z"
    }
   },
   "cell_type": "code",
   "source": [
    "a = np.arange(10)\n",
    "a"
   ],
   "id": "3d55e6a5acba7d8c",
   "outputs": [
    {
     "data": {
      "text/plain": [
       "array([0, 1, 2, 3, 4, 5, 6, 7, 8, 9])"
      ]
     },
     "execution_count": 16,
     "metadata": {},
     "output_type": "execute_result"
    }
   ],
   "execution_count": 16
  },
  {
   "metadata": {
    "ExecuteTime": {
     "end_time": "2025-04-23T07:17:46.651923Z",
     "start_time": "2025-04-23T07:17:46.646205Z"
    }
   },
   "cell_type": "code",
   "source": [
    "b = np.arange(1,11,1)\n",
    "b"
   ],
   "id": "cee9b566dac942bc",
   "outputs": [
    {
     "data": {
      "text/plain": [
       "array([ 1,  2,  3,  4,  5,  6,  7,  8,  9, 10])"
      ]
     },
     "execution_count": 17,
     "metadata": {},
     "output_type": "execute_result"
    }
   ],
   "execution_count": 17
  },
  {
   "metadata": {
    "ExecuteTime": {
     "end_time": "2025-04-23T07:38:34.593719Z",
     "start_time": "2025-04-23T07:38:34.588570Z"
    }
   },
   "cell_type": "code",
   "source": [
    "even_spced_arr = np.linspace(0,100,5, dtype=int)\n",
    "even_spced_arr"
   ],
   "id": "af6aac2305953bf7",
   "outputs": [
    {
     "data": {
      "text/plain": [
       "array([  0,  25,  50,  75, 100])"
      ]
     },
     "execution_count": 31,
     "metadata": {},
     "output_type": "execute_result"
    }
   ],
   "execution_count": 31
  },
  {
   "metadata": {
    "ExecuteTime": {
     "end_time": "2025-04-23T07:38:42.125035Z",
     "start_time": "2025-04-23T07:38:42.118472Z"
    }
   },
   "cell_type": "code",
   "source": [
    "even_spced_array = np.linspace(0,100,5, dtype=int, endpoint=False)\n",
    "even_spced_array"
   ],
   "id": "77be4158f3f077f3",
   "outputs": [
    {
     "data": {
      "text/plain": [
       "array([ 0, 20, 40, 60, 80])"
      ]
     },
     "execution_count": 32,
     "metadata": {},
     "output_type": "execute_result"
    }
   ],
   "execution_count": 32
  },
  {
   "metadata": {
    "ExecuteTime": {
     "end_time": "2025-04-23T07:41:05.868403Z",
     "start_time": "2025-04-23T07:41:05.863102Z"
    }
   },
   "cell_type": "code",
   "source": [
    "char_arr = np.array(['Nikhilesh Mewara','Aayushi Mewara'])\n",
    "char_arr"
   ],
   "id": "17522b7971db7f7b",
   "outputs": [
    {
     "data": {
      "text/plain": [
       "array(['Nikhilesh Mewara', 'Aayushi Mewara'], dtype='<U16')"
      ]
     },
     "execution_count": 36,
     "metadata": {},
     "output_type": "execute_result"
    }
   ],
   "execution_count": 36
  },
  {
   "metadata": {},
   "cell_type": "markdown",
   "source": "# Accessing array",
   "id": "ec7c278b43214ca8"
  },
  {
   "metadata": {
    "ExecuteTime": {
     "end_time": "2025-04-23T15:46:05.351971Z",
     "start_time": "2025-04-23T15:46:05.339263Z"
    }
   },
   "cell_type": "code",
   "source": [
    " c = np.array([[(1.5,2,3), (4,5,6)], [(3,2,1), (4,5,6)]], \n",
    "                 dtype = float)\n",
    " c"
   ],
   "id": "baacb1a97b98b88b",
   "outputs": [
    {
     "data": {
      "text/plain": [
       "array([[[1.5, 2. , 3. ],\n",
       "        [4. , 5. , 6. ]],\n",
       "\n",
       "       [[3. , 2. , 1. ],\n",
       "        [4. , 5. , 6. ]]])"
      ]
     },
     "execution_count": 37,
     "metadata": {},
     "output_type": "execute_result"
    }
   ],
   "execution_count": 37
  },
  {
   "metadata": {
    "ExecuteTime": {
     "end_time": "2025-04-23T15:46:18.672775Z",
     "start_time": "2025-04-23T15:46:18.667010Z"
    }
   },
   "cell_type": "code",
   "source": "c.ndim",
   "id": "15912b2e5440aa67",
   "outputs": [
    {
     "data": {
      "text/plain": [
       "3"
      ]
     },
     "execution_count": 38,
     "metadata": {},
     "output_type": "execute_result"
    }
   ],
   "execution_count": 38
  },
  {
   "metadata": {},
   "cell_type": "markdown",
   "source": [
    "# n-D array\n",
    "creating  2 D arrays with 0 or 1     following methods can also create 1D array\n"
   ],
   "id": "92be65e4dee86896"
  },
  {
   "metadata": {
    "ExecuteTime": {
     "end_time": "2025-04-23T07:32:21.714972Z",
     "start_time": "2025-04-23T07:32:21.709880Z"
    }
   },
   "cell_type": "code",
   "source": [
    "all_zeros = np.zeros((4,4))\n",
    "all_ones = np.ones((4,4))\n",
    "all_empty = np.empty((4,4))\n",
    "random = np.random.rand(4)"
   ],
   "id": "8e61bf66b6d334b9",
   "outputs": [],
   "execution_count": 26
  },
  {
   "metadata": {
    "ExecuteTime": {
     "end_time": "2025-04-23T07:01:53.158019Z",
     "start_time": "2025-04-23T07:01:53.152399Z"
    }
   },
   "cell_type": "code",
   "outputs": [
    {
     "data": {
      "text/plain": [
       "array([[1., 1., 1., 1.],\n",
       "       [1., 1., 1., 1.],\n",
       "       [1., 1., 1., 1.],\n",
       "       [1., 1., 1., 1.]])"
      ]
     },
     "execution_count": 6,
     "metadata": {},
     "output_type": "execute_result"
    }
   ],
   "execution_count": 6,
   "source": "all_empty",
   "id": "198a95d0-0d72-456f-a248-ab83c6a34261"
  },
  {
   "metadata": {
    "ExecuteTime": {
     "end_time": "2025-04-23T07:01:53.859117Z",
     "start_time": "2025-04-23T07:01:53.854174Z"
    }
   },
   "cell_type": "code",
   "outputs": [
    {
     "data": {
      "text/plain": [
       "array([[0., 0., 0., 0.],\n",
       "       [0., 0., 0., 0.],\n",
       "       [0., 0., 0., 0.],\n",
       "       [0., 0., 0., 0.]])"
      ]
     },
     "execution_count": 7,
     "metadata": {},
     "output_type": "execute_result"
    }
   ],
   "execution_count": 7,
   "source": "all_zeros",
   "id": "bc94f59d885d5188"
  },
  {
   "metadata": {
    "ExecuteTime": {
     "end_time": "2025-04-23T07:01:54.491147Z",
     "start_time": "2025-04-23T07:01:54.484647Z"
    }
   },
   "cell_type": "code",
   "outputs": [
    {
     "data": {
      "text/plain": [
       "array([[1., 1., 1., 1.],\n",
       "       [1., 1., 1., 1.],\n",
       "       [1., 1., 1., 1.],\n",
       "       [1., 1., 1., 1.]])"
      ]
     },
     "execution_count": 8,
     "metadata": {},
     "output_type": "execute_result"
    }
   ],
   "execution_count": 8,
   "source": "all_ones",
   "id": "f79f67e01e49aab4"
  },
  {
   "metadata": {
    "ExecuteTime": {
     "end_time": "2025-04-23T07:32:30.067569Z",
     "start_time": "2025-04-23T07:32:30.062040Z"
    }
   },
   "cell_type": "code",
   "source": "random",
   "id": "e33f5538ef33b0f3",
   "outputs": [
    {
     "data": {
      "text/plain": [
       "array([0.30152849, 0.59237811, 0.25254584, 0.34356329])"
      ]
     },
     "execution_count": 27,
     "metadata": {},
     "output_type": "execute_result"
    }
   ],
   "execution_count": 27
  },
  {
   "metadata": {},
   "cell_type": "code",
   "outputs": [],
   "execution_count": null,
   "source": "",
   "id": "2d412ee6354d30e9"
  }
 ],
 "metadata": {
  "kernelspec": {
   "display_name": "Python 3 (ipykernel)",
   "language": "python",
   "name": "python3"
  },
  "language_info": {
   "codemirror_mode": {
    "name": "ipython",
    "version": 3
   },
   "file_extension": ".py",
   "mimetype": "text/x-python",
   "name": "python",
   "nbconvert_exporter": "python",
   "pygments_lexer": "ipython3",
   "version": "3.11.7"
  }
 },
 "nbformat": 4,
 "nbformat_minor": 5
}
